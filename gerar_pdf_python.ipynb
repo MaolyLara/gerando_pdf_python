{
  "cells": [
    {
      "cell_type": "markdown",
      "metadata": {
        "id": "view-in-github",
        "colab_type": "text"
      },
      "source": [
        "<a href=\"https://colab.research.google.com/github/MaolyLara/gerando_pdf_python/blob/main/gerar_pdf_python.ipynb\" target=\"_parent\"><img src=\"https://colab.research.google.com/assets/colab-badge.svg\" alt=\"Open In Colab\"/></a>"
      ]
    },
    {
      "cell_type": "markdown",
      "id": "3fd23233",
      "metadata": {
        "id": "3fd23233"
      },
      "source": [
        "### Biblioteca do Python a instalar"
      ]
    },
    {
      "cell_type": "code",
      "execution_count": null,
      "id": "52da4b71",
      "metadata": {
        "id": "52da4b71",
        "outputId": "4113acfa-591f-41d8-ef0c-9af4cb4c33ce"
      },
      "outputs": [
        {
          "name": "stdout",
          "output_type": "stream",
          "text": [
            "Collecting fpdf\n",
            "  Downloading fpdf-1.7.2.tar.gz (39 kB)\n",
            "  Preparing metadata (setup.py): started\n",
            "  Preparing metadata (setup.py): finished with status 'done'\n",
            "Building wheels for collected packages: fpdf\n",
            "  Building wheel for fpdf (setup.py): started\n",
            "  Building wheel for fpdf (setup.py): finished with status 'done'\n",
            "  Created wheel for fpdf: filename=fpdf-1.7.2-py2.py3-none-any.whl size=40705 sha256=6fdfeeab95fa33645689b4b1007ee49e7aed73872400ae1a470cdea2b13d108b\n",
            "  Stored in directory: c:\\users\\icts\\appdata\\local\\pip\\cache\\wheels\\bc\\6c\\e7\\c239668efef980927985e629d58674079552a9de5ec3aebfd8\n",
            "Successfully built fpdf\n",
            "Installing collected packages: fpdf\n",
            "Successfully installed fpdf-1.7.2\n"
          ]
        }
      ],
      "source": [
        "!pip install fpdf"
      ]
    },
    {
      "cell_type": "markdown",
      "id": "e9ab37a4",
      "metadata": {
        "id": "e9ab37a4"
      },
      "source": [
        "## Entrada de Dados\n",
        "### Guardando informações do Usuario\n"
      ]
    },
    {
      "cell_type": "code",
      "execution_count": null,
      "id": "096567f5",
      "metadata": {
        "id": "096567f5",
        "outputId": "85600d19-97a5-47bb-9251-c74d0819fb6b"
      },
      "outputs": [
        {
          "name": "stdout",
          "output_type": "stream",
          "text": [
            "Digite a descripção do projeto: Desenvolvimento Web\n",
            "Digite o total de horas estimadas: 120\n",
            "Digite o valor de horas trabalhadas: 150\n",
            "Digite o prazo estimado: 3 meses\n"
          ]
        }
      ],
      "source": [
        "projeto = input('Digite a descripção do projeto: ')\n",
        "horas_estimadas = input('Digite o total de horas estimadas: ')\n",
        "valor_horas = input('Digite o valor de horas trabalhadas: ')\n",
        "prazo = input('Digite o prazo estimado: ')"
      ]
    },
    {
      "cell_type": "markdown",
      "id": "8248a8c9",
      "metadata": {
        "id": "8248a8c9"
      },
      "source": [
        "### Realizando Cálculos"
      ]
    },
    {
      "cell_type": "code",
      "execution_count": null,
      "id": "4145dfa2",
      "metadata": {
        "id": "4145dfa2"
      },
      "outputs": [],
      "source": [
        "valor_total = int(horas_estimadas) + int(valor_horas)"
      ]
    },
    {
      "cell_type": "markdown",
      "id": "9091e8d7",
      "metadata": {
        "id": "9091e8d7"
      },
      "source": [
        "### Gerando o PDF"
      ]
    },
    {
      "cell_type": "code",
      "execution_count": null,
      "id": "7bbf7af6",
      "metadata": {
        "id": "7bbf7af6",
        "outputId": "8c518e22-acaa-4496-acd1-ee8454a9ea8a"
      },
      "outputs": [
        {
          "name": "stdout",
          "output_type": "stream",
          "text": [
            "Orçamento gerado com sucesso!\n"
          ]
        }
      ],
      "source": [
        "from fpdf import FPDF\n",
        "\n",
        "pdf = FPDF()\n",
        "\n",
        "pdf.add_page()\n",
        "pdf.set_font('Arial')\n",
        "\n",
        "pdf.image('Maoly.png', x=0, y=0)\n",
        "pdf.text(115,145, projeto)\n",
        "pdf.text(115,160, horas_estimadas)\n",
        "pdf.text(115,175, valor_horas)\n",
        "pdf.text(115,190, prazo)\n",
        "pdf.text(115,205, str(valor_total))\n",
        "\n",
        "\n",
        "pdf.output('Orçamento.pdf')\n",
        "print('Orçamento gerado com sucesso!')"
      ]
    }
  ],
  "metadata": {
    "kernelspec": {
      "display_name": "Python 3 (ipykernel)",
      "language": "python",
      "name": "python3"
    },
    "language_info": {
      "codemirror_mode": {
        "name": "ipython",
        "version": 3
      },
      "file_extension": ".py",
      "mimetype": "text/x-python",
      "name": "python",
      "nbconvert_exporter": "python",
      "pygments_lexer": "ipython3",
      "version": "3.10.5"
    },
    "colab": {
      "provenance": [],
      "include_colab_link": true
    }
  },
  "nbformat": 4,
  "nbformat_minor": 5
}